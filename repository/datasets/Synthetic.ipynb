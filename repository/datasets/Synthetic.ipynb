{
 "cells": [
  {
   "cell_type": "code",
   "execution_count": 1,
   "id": "d45a9a57",
   "metadata": {},
   "outputs": [],
   "source": [
    "import pandas as pd\n",
    "import numpy as np\n",
    "import matplotlib.pyplot as plt"
   ]
  },
  {
   "cell_type": "code",
   "execution_count": 2,
   "id": "06f0e84e",
   "metadata": {},
   "outputs": [],
   "source": [
    "# Note spatialsketch ranges also start counting from zero and go up until N-1 (=grid_max)\n",
    "grid_min = 0\n",
    "grid_max = 4095"
   ]
  },
  {
   "cell_type": "markdown",
   "id": "b4a3f5a6",
   "metadata": {},
   "source": [
    "# Make synthetic data in longitude, latitude in range of [grid_min, grid_max]\n",
    "\n",
    "Properties:\n",
    "\n",
    "dataset (1):\n",
    "- uniform distribution over longitude latitude grid\n",
    "- uniform distribution ip addresses\n",
    "\n",
    "dataset (2):\n",
    "- zipf distribution over longitude latitude grid\n",
    "- uniform distr ip addresses\n",
    "\n",
    "dataset (3):\n",
    "- uniform over longitude latitude\n",
    "- zipf over ip addresses\n",
    "\n",
    "dataset (4):\n",
    "- zipf zipf"
   ]
  },
  {
   "cell_type": "markdown",
   "id": "7c882e72",
   "metadata": {},
   "source": [
    "### Distributions"
   ]
  },
  {
   "cell_type": "code",
   "execution_count": 3,
   "id": "76086f4d",
   "metadata": {},
   "outputs": [],
   "source": [
    "def get_unif(L, U, seed, N): # Get uniform data within range\n",
    "    np.random.seed(seed=seed)\n",
    "    return np.random.randint(L, U, size=N)"
   ]
  },
  {
   "cell_type": "code",
   "execution_count": 4,
   "id": "f94ef05c",
   "metadata": {},
   "outputs": [],
   "source": [
    "def get_zipf(L, U, seed, N): # Get zipf distributed data and cut off points outside of range.\n",
    "    \n",
    "    np.random.seed(seed=seed)\n",
    "    a =1.3\n",
    "    s = np.random.zipf(a, 2*N)\n",
    "    s = s[s<U]\n",
    "\n",
    "    return s"
   ]
  },
  {
   "cell_type": "markdown",
   "id": "ff7425cc",
   "metadata": {},
   "source": [
    "### Dataset creation and output"
   ]
  },
  {
   "cell_type": "code",
   "execution_count": 5,
   "id": "1a1a2e1f",
   "metadata": {},
   "outputs": [],
   "source": [
    "def create_dataset(ds_id, N):\n",
    "    df = pd.DataFrame(columns=['timestamp', 'id', 'longitude', 'latitude'])\n",
    "    ts = np.arange(0, N, 1)\n",
    "    unif_ids = True\n",
    "    unif_space = True\n",
    "    \n",
    "    if ds_id == 3 or ds_id == 4:\n",
    "        unif_ids = False\n",
    "    if ds_id == 2 or ds_id == 4:\n",
    "        unif_space = False\n",
    "    if unif_ids:\n",
    "        ids = get_unif(0, 2147483647,1, N)\n",
    "    else:\n",
    "        ids = get_zipf(0, 2147483647, 1, N)\n",
    "    \n",
    "    if unif_space:\n",
    "        longitude = get_unif(grid_min, grid_max,2, N)\n",
    "        latitude = get_unif(grid_min, grid_max, 3, N)\n",
    "    else:\n",
    "        longitude = get_zipf(grid_min, grid_max, 2, N)\n",
    "        latitude = get_zipf(grid_min, grid_max, 3, N)\n",
    "    \n",
    "    df['timestamp'] = pd.Series(ts)\n",
    "    df['id'] = pd.Series(ids)\n",
    "    df['longitude'] = pd.Series(longitude)\n",
    "    df['latitude'] = pd.Series(latitude)\n",
    "\n",
    "    if (df.isnull().sum().any() > 0):\n",
    "        print(\"issue\")\n",
    "        return None\n",
    "    else:\n",
    "        write_to_csv(df, ds_id, unif_ids, unif_space, N)\n",
    "    return df\n",
    "\n",
    "def write_to_csv(df, ds_id, unif_ids, unif_space, N): # write dataset\n",
    "    df.to_csv(\"synth_unifIds{}_unifSpace{}_N{}_grid_res{}-{}.csv\".format(unif_ids, unif_space, N, grid_min, grid_max), index=False)\n",
    "    #print(df, df.dtypes)"
   ]
  },
  {
   "cell_type": "markdown",
   "id": "71c0bcfd",
   "metadata": {},
   "source": [
    "### Dataset creation"
   ]
  },
  {
   "cell_type": "code",
   "execution_count": null,
   "id": "b48b4136",
   "metadata": {},
   "outputs": [],
   "source": [
    "def make_datasets(): # Loop over different dataset sizes and settings\n",
    "    sizes= [40e6]\n",
    "    for i in [4]:#,2,3,4]:\n",
    "        for n in sizes:\n",
    "            create_dataset(i, int(n))\n",
    "            print(\"Finished generating size {} for setting {}\".format(int(n), i))\n",
    "\n",
    "make_datasets()"
   ]
  }
 ],
 "metadata": {
  "kernelspec": {
   "display_name": "Python 3",
   "language": "python",
   "name": "python3"
  },
  "language_info": {
   "codemirror_mode": {
    "name": "ipython",
    "version": 3
   },
   "file_extension": ".py",
   "mimetype": "text/x-python",
   "name": "python",
   "nbconvert_exporter": "python",
   "pygments_lexer": "ipython3",
   "version": "3.6.15"
  }
 },
 "nbformat": 4,
 "nbformat_minor": 5
}
